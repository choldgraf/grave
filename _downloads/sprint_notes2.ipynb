{
  "cells": [
    {
      "cell_type": "code",
      "execution_count": null,
      "metadata": {
        "collapsed": false
      },
      "outputs": [],
      "source": [
        "%matplotlib inline"
      ]
    },
    {
      "cell_type": "markdown",
      "metadata": {},
      "source": [
        "\nGraVE Documentation\n-------------------\n\n\n"
      ]
    },
    {
      "cell_type": "code",
      "execution_count": null,
      "metadata": {
        "collapsed": false
      },
      "outputs": [],
      "source": [
        "import networkx as nx\n\n\ntoy_network = nx.barbell_graph(10, 14)\n\nnode_options = {\n    'node_color': 'royalblue',\n    'node_size': 50,\n    'edgecolors': 'white',\n}\n\nedge_options = {\n    'line_color': 'grey',\n    'alpha': 0.7,\n}\n\nfor node, node_attributes in toy_network.nodes(data=True):\n    node_attributes['distance'] = my_compute(toy_network, node)\n\n\ndef protein_style(node_attributes):\n    if node_attributes.get('type', '') == 'protein':\n        return {'color': 'blue'}\n    else:\n        return {'color': 'red'}\n\n\nplot_the_graph(toy_network,\n               layout='spring',\n               node_style=protein_style,\n               edge_stlye=edge_options)"
      ]
    }
  ],
  "metadata": {
    "kernelspec": {
      "display_name": "Python 3",
      "language": "python",
      "name": "python3"
    },
    "language_info": {
      "codemirror_mode": {
        "name": "ipython",
        "version": 3
      },
      "file_extension": ".py",
      "mimetype": "text/x-python",
      "name": "python",
      "nbconvert_exporter": "python",
      "pygments_lexer": "ipython3",
      "version": "3.6.4"
    }
  },
  "nbformat": 4,
  "nbformat_minor": 0
}