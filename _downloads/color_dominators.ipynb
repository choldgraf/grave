{
  "cells": [
    {
      "cell_type": "code",
      "execution_count": null,
      "metadata": {
        "collapsed": false
      },
      "outputs": [],
      "source": [
        "%matplotlib inline"
      ]
    },
    {
      "cell_type": "markdown",
      "metadata": {},
      "source": [
        "\nGraVE Documentation\n-------------------\n\n\n"
      ]
    },
    {
      "cell_type": "code",
      "execution_count": null,
      "metadata": {
        "collapsed": false
      },
      "outputs": [],
      "source": [
        "import networkx as nx\n\ntoy_network = nx.barbell_graph(100, 10)\n\ndom_set = nx.min_weight_dominating_set(toy_network)\n\nfor node, node_attributes in toy_network.nodes(data=True):\n    node['is_dominator'] = True if node in dom_set else False\n\n\ndef color_dominators(node_attributes):\n    if node_attributes.get('is_dominator'):\n        return {'color': 'red'}\n    else:\n        return {'color': 'gray'}\n\n\nplot_the_graph(toy_network,\n               node_style=color_dominators)"
      ]
    }
  ],
  "metadata": {
    "kernelspec": {
      "display_name": "Python 3",
      "language": "python",
      "name": "python3"
    },
    "language_info": {
      "codemirror_mode": {
        "name": "ipython",
        "version": 3
      },
      "file_extension": ".py",
      "mimetype": "text/x-python",
      "name": "python",
      "nbconvert_exporter": "python",
      "pygments_lexer": "ipython3",
      "version": "3.6.4"
    }
  },
  "nbformat": 4,
  "nbformat_minor": 0
}