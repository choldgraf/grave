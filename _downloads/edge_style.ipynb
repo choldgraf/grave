{
  "cells": [
    {
      "cell_type": "code",
      "execution_count": null,
      "metadata": {
        "collapsed": false
      },
      "outputs": [],
      "source": [
        "%matplotlib inline"
      ]
    },
    {
      "cell_type": "markdown",
      "metadata": {},
      "source": [
        "\nGraVE Documentation\n-------------------\n\n\n"
      ]
    },
    {
      "cell_type": "code",
      "execution_count": null,
      "metadata": {
        "collapsed": false
      },
      "outputs": [],
      "source": [
        "import networkx as nx\n\n\ntoy_network = nx.barbell_graph(10, 14)\n\nnode_options = {\n    'node_color': 'royalblue',\n    'node_size': 50,\n    'edgecolors': 'white',\n}\n\nedge_options = {\n    'line_color': 'grey',\n    'alpha': 0.7,\n}\n\nfor u, v, edge_attributes in toy_network.edges.data():\n    c = (toy_network.nodes[u]['value'] +\n         toy_network.nodes[v]['value']) / 2\n    edge_attributes['color'] = c\n\n\ndef edge_style(edge_attributes):\n    return {'linewidth': edge_attributes.get('weight', 1)}\n\n\ndef use_attribute(k, dflt=None):\n    def inner(node_attributes):\n        return {k: node_attributes.get(k, dflt)}\n\n    return inner\n\n\n# TODO add spec\nWHITELIST = {'color', 'linewidth'}\n\n\ndef get_all_the_styles(attributes):\n    return {k: v for k, v in attributes.items()\n            if k in WHITELIST}\n\n\nplot_the_network_as_ball_and_stick(ax, toy_network,\n                                   layout='spring',\n                                   node_style=get_all_the_styles,\n                                   edge_stlye=use_attribute('color'),\n                                   node_labels=None,\n                                   edge_labels=None,\n                                   extra_artists=None)"
      ]
    }
  ],
  "metadata": {
    "kernelspec": {
      "display_name": "Python 3",
      "language": "python",
      "name": "python3"
    },
    "language_info": {
      "codemirror_mode": {
        "name": "ipython",
        "version": 3
      },
      "file_extension": ".py",
      "mimetype": "text/x-python",
      "name": "python",
      "nbconvert_exporter": "python",
      "pygments_lexer": "ipython3",
      "version": "3.6.4"
    }
  },
  "nbformat": 4,
  "nbformat_minor": 0
}