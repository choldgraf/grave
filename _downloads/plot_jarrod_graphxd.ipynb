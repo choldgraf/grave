{
  "cells": [
    {
      "cell_type": "code",
      "execution_count": null,
      "metadata": {
        "collapsed": false
      },
      "outputs": [],
      "source": [
        "%matplotlib inline"
      ]
    },
    {
      "cell_type": "markdown",
      "metadata": {},
      "source": [
        "\nGraVE Documentation\n-------------------\n\n\n"
      ]
    },
    {
      "cell_type": "code",
      "execution_count": null,
      "metadata": {
        "collapsed": false
      },
      "outputs": [],
      "source": [
        "import networkx as nx\nimport matplotlib.pyplot as plt\n\n\ntoy_network = nx.barbell_graph(10, 14)\n\n\nnode_options = {\n    'node_color': 'royalblue',\n    'node_size': 50,\n    'edgecolors': 'white',\n}\n\nedge_options = {\n    'line_color': 'grey',\n    'alpha': 0.7,\n}\n\npos = nx.circular_layout(toy_network)\nnx.draw_networkx_nodes(toy_network, pos, **node_options)\nnx.draw_networkx_edges(toy_network, pos, **edge_options)\nplt.axes().set_aspect('equal')\nplt.axis('off')"
      ]
    }
  ],
  "metadata": {
    "kernelspec": {
      "display_name": "Python 3",
      "language": "python",
      "name": "python3"
    },
    "language_info": {
      "codemirror_mode": {
        "name": "ipython",
        "version": 3
      },
      "file_extension": ".py",
      "mimetype": "text/x-python",
      "name": "python",
      "nbconvert_exporter": "python",
      "pygments_lexer": "ipython3",
      "version": "3.6.4"
    }
  },
  "nbformat": 4,
  "nbformat_minor": 0
}